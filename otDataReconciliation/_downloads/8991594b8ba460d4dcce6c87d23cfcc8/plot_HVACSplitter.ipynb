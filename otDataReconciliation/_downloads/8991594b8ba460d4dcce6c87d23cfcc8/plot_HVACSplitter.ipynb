{
  "cells": [
    {
      "cell_type": "markdown",
      "metadata": {},
      "source": [
        "\n# Reconcile data for the HVAC Splitter\n"
      ]
    },
    {
      "cell_type": "code",
      "execution_count": null,
      "metadata": {
        "collapsed": false
      },
      "outputs": [],
      "source": [
        "# # Reconciliation de donn\u00e9e avec OpenModelica et OpenTURNS\n# L'objet est de tester la classe DataReconciliationOM fournissant un wrapper python de la reconciliation de donn\u00e9e r\u00e9alis\u00e9e dans OpenModelica.\n# Les r\u00e9sultats de la r\u00e9conciliation de donn\u00e9es sont accessibles au format OpenTURNS (distribution, matrices) pour \u00eatre visualis\u00e9es et utilis\u00e9es dans des \u00e9tudes d'incertitudes (propagation, calage par exemple).\n\n# Import des modules n\u00e9cessaires\n\nimport openturns as ot\nimport openturns.viewer as otv\nfrom IPython import get_ipython\nfrom IPython.display import display\n\nimport otDataReconciliation as otDataR\n\n# Affichage graphiques en ligne si utilisation Ipython\ntry:\n    get_ipython().run_line_magic(\"matplotlib\", \"inline\")\nexcept:\n    pass\n\n# Le mod\u00e8le jouet est ici l'exemple d'un gaine de ventilation se s\u00e9parant\n# $$ Q_3 = Q_1 + Q_2 $$\n# $$ Q_3 c_p T_3 = Q_1 c_p T_1 + Q_2 c_p T_2 $$\n# Les d\u00e9bits sont ici en $m^3.h^{-1}$ et les temp\u00e9ratures en $degC$\nmodelName = \"TestDataR_HVACSplitter\"\n\n# Construction de la classe r\u00e9conciliation de donn\u00e9e\nVarNames = ot.Description([\"Q1\", \"Q2\", \"Q3\", \"T1\", \"T2\", \"T3\"])\npriorMeasurements = ot.Point([130, 210, 360, 20, 30, 22])\ncovM = ot.CovarianceMatrix([\n    [100, 100, 0, 0, 0, 0],\n    [100, 400, 0, 0, 0, 0],\n    [0, 0, 400, 0, 0, 0],\n    [0, 0, 0, 0.3**2, 0, 0],\n    [0, 0, 0, 0, 0.3**2, 0],\n    [0, 0, 0, 0, 0, 0.3**2],\n])\ncasePath = \"./\"\nsimuMatPath = \"SIMU_MAT_0\"\ndataR = otDataR.DataReconciliationOM(modelName, VarNames, priorMeasurements, covM, casePath, simuMatPath)\n\n# Visualisation de la distribution multivari\u00e9e des mesures avant r\u00e9conciliation\npriorDistribution = dataR.getPriorDistribution()\ngrid = priorDistribution.drawDistributionGridPDF()\nfig = otv.View(grid)\n\n# Lancer la r\u00e9conciliation de donn\u00e9es\ndataR.reconcileData()\n\n# # Analyse des r\u00e9sultats\ndf = dataR.getLocalResultsAsDataFrame()\ndisplay(df)\n\n# Visualisation de la distribution multivari\u00e9e des mesures r\u00e9concili\u00e9es, marginales 1D et 2D (visualisation de la d\u00e9pendance \u00e0 posteriori)\nposteriorDistribution = dataR.getPosteriorDistribution()\ngrid = posteriorDistribution.drawDistributionGridPDF()\nfig = otv.View(grid)\n\n# Il est \u00e9galement possible de r\u00e9cup\u00e9rer la matrice de covariance \u00e0 posteriori\nposteriorCovM = dataR.getCovarianceMatrixAsDataFrame()\ndisplay(posteriorCovM)\n\n# Simulation de l'effet de la r\u00e9conciliation de donn\u00e9e sur les marginales\ngrid = dataR.drawPriorPosteriorMarginalsDistribution()\nfig = otv.View(grid)"
      ]
    }
  ],
  "metadata": {
    "kernelspec": {
      "display_name": "Python 3",
      "language": "python",
      "name": "python3"
    },
    "language_info": {
      "codemirror_mode": {
        "name": "ipython",
        "version": 3
      },
      "file_extension": ".py",
      "mimetype": "text/x-python",
      "name": "python",
      "nbconvert_exporter": "python",
      "pygments_lexer": "ipython3",
      "version": "3.10.14"
    }
  },
  "nbformat": 4,
  "nbformat_minor": 0
}