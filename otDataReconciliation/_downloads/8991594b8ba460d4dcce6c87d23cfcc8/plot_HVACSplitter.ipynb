{
  "cells": [
    {
      "cell_type": "markdown",
      "metadata": {},
      "source": [
        "\n# Reconcile data for the HVAC Splitter\n"
      ]
    },
    {
      "cell_type": "code",
      "execution_count": null,
      "metadata": {
        "collapsed": false
      },
      "outputs": [],
      "source": [
        "# # Reconciliation de donn\u00e9e avec OpenModelica et OpenTURNS\n# L'objet est de tester la classe DataReconciliationOM fournissant un wrapper python de la reconciliation de donn\u00e9e r\u00e9alis\u00e9e dans OpenModelica.\n# Les r\u00e9sultats de la r\u00e9conciliation de donn\u00e9es sont accessibles au format OpenTURNS (distribution, matrices) pour \u00eatre visualis\u00e9s et utilis\u00e9s dans des \u00e9tudes d'incertitudes (propagation, calage par exemple).\n\n# Import des modules n\u00e9cessaires\nimport otDataReconciliation as otDataR\nimport openturns as ot\nimport openturns.viewer as otv\nimport matplotlib.pyplot as plt\nfrom IPython.display import Latex, display\nfrom IPython import get_ipython\nimport os\n\n# Affichage graphiques en ligne si utilisation Ipython\ntry:\n    get_ipython().run_line_magic(\"matplotlib\", \"inline\")\nexcept:\n    pass\n\n# Le mod\u00e8le jouet est ici l'exemple d'un gaine de ventilation se s\u00e9parant\n# $$ Q_3 = Q_1 + Q_2 $$\n# $$ Q_3 c_p T_3 = Q_1 c_p T_1 + Q_2 c_p T_2 $$\n# Les d\u00e9bits sont ici en $m^3.h^{-1}$ et les temp\u00e9ratures en $degC$\nmodelName = \"TestDataR_HVACSplitter\"\n\n# Construction de la loi \u00e0 priori des mesures \u00e0 r\u00e9concili\u00e9es\n# Une corr\u00e9lation de 0.5 est sp\u00e9cifi\u00e9e entre $Q_1$ et $Q_2$\n# Dans le cadre de la r\u00e9conciliation de donn\u00e9e mis en oeuvre dans OpenModelica, la loi \u00e0 priori doit \u00eatre une loi normale multivari\u00e9e.\nVarNames = ot.Description([\"Q1\", \"Q2\", \"Q3\", \"T1\", \"T2\", \"T3\"])\npriorMeasurements = ot.Point([130, 210, 360, 20, 30, 22])\npriorMeasurementsStandardDeviation = ot.Point([10, 20, 20, 0.3, 0.3, 0.3])\ncorrelationMatrix = ot.CorrelationMatrix(\n    len(VarNames)\n)  # Initialis\u00e9 \u00e0 la matrice identit\u00e9\ncorrelationMatrix[0, 1] = 0.5  # Sp\u00e9cification du coefficient de corr\u00e9lation souhait\u00e9\npriorDistribution = ot.Normal(\n    priorMeasurements, priorMeasurementsStandardDeviation, correlationMatrix\n)\n\n# La matrice \u00e9tant symm\u00e9trique, le coefficient [1,0] est automatiquement mis \u00e0 jour\ndisplay(correlationMatrix)\n\n# Construction de la classe r\u00e9conciliation de donn\u00e9es\ncasePath = \"./\"\nsimuMatPath = \"SIMU_MAT_0\"\ncovarianceMatrix = priorDistribution.getCovariance()\ndataR = otDataR.DataReconciliationOM(\n    modelName, VarNames, priorMeasurements, covarianceMatrix, casePath, simuMatPath\n)\n\n# Visualisation de la distribution multivari\u00e9e des mesures avant r\u00e9conciliation\npriorDistribution = dataR.getPriorDistribution()\ngrid = priorDistribution.drawDistributionGridPDF()\nfig = otv.View(grid)\n\n# Lancer la r\u00e9conciliation de donn\u00e9es\ndataR.reconcileData()\n\n# # Analyse des r\u00e9sultats\ndf = dataR.getLocalResultsAsDataFrame()\ndisplay(df)\n\n# Visualisation de la distribution multivari\u00e9e des mesures r\u00e9concili\u00e9es, marginales 1D et 2D (visualisation de la d\u00e9pendance \u00e0 posteriori)\nposteriorDistribution = dataR.getPosteriorDistribution(index=[0, 1, 2])\ngrid = posteriorDistribution.drawDistributionGridPDF()\nfig = otv.View(grid)\n\n# Il est \u00e9galement possible de r\u00e9cup\u00e9rer la matrice de covariance \u00e0 posteriori\nposteriorCovM = dataR.getCovarianceMatrixAsDataFrame()\ndisplay(posteriorCovM)\n\n# Acc\u00e8s \u00e0 la matrice de corr\u00e9lation reconcili\u00e9e des trois d\u00e9bits\nposteriorCorrelationMatrix = dataR.getPosteriorCorrelationMatrix(index=[0, 1, 2])\nposteriorCorrelationMatrixDF = dataR.getPosteriorCorrelationMatrixAsDataFrame(\n    index=[0, 1, 2]\n)\ndisplay(posteriorCorrelationMatrixDF)\n\n# Visualisation de l'effet de la r\u00e9conciliation de donn\u00e9es sur les marginales\ngrid = dataR.drawPriorPosteriorMarginalsDistribution()\nfig = otv.View(grid)\n\n#Fin"
      ]
    }
  ],
  "metadata": {
    "kernelspec": {
      "display_name": "Python 3",
      "language": "python",
      "name": "python3"
    },
    "language_info": {
      "codemirror_mode": {
        "name": "ipython",
        "version": 3
      },
      "file_extension": ".py",
      "mimetype": "text/x-python",
      "name": "python",
      "nbconvert_exporter": "python",
      "pygments_lexer": "ipython3",
      "version": "3.10.14"
    }
  },
  "nbformat": 4,
  "nbformat_minor": 0
}