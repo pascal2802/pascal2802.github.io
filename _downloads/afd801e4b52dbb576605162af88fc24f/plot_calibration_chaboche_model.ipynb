{
  "cells": [
    {
      "cell_type": "markdown",
      "metadata": {},
      "source": [
        "\n# Calibrate Chaboche model using ABCCalibration Class\n"
      ]
    },
    {
      "cell_type": "markdown",
      "metadata": {},
      "source": [
        "This example aims to illustrate the use of the ABCCalibration class with the Chaboche model\nWe recall that the Chaboche model is the following :\n\n\\begin{align}\\sigma = G(\\epsilon,R,C,\\gamma) = R + \\frac{C}{\\gamma} (1-\\exp(-\\gamma\\epsilon))\\end{align}\n\nwhere:\n\n- $\\epsilon$ is the strain,\n- $\\sigma$ is the stress (Pa),\n- $R$, $C$, $\\gamma$ are the parameters.\n\n"
      ]
    },
    {
      "cell_type": "markdown",
      "metadata": {},
      "source": [
        "| Loading python modules\n\n"
      ]
    },
    {
      "cell_type": "code",
      "execution_count": null,
      "metadata": {
        "collapsed": false
      },
      "outputs": [],
      "source": [
        "import openturns as ot\nfrom openturns.usecases import chaboche_model\nimport math\nimport imp\nimport otABCCalibration.ABC_ClassProto as otABCC\nimport openturns.viewer as otv\nimport matplotlib.pyplot as plt\nimport openturns.viewer as otv\n\n\nimp.reload(otABCC)\n\n# ot.Log.Show(ot.Log.NONE)"
      ]
    },
    {
      "cell_type": "markdown",
      "metadata": {},
      "source": [
        "## Define the Observations\n\n"
      ]
    },
    {
      "cell_type": "code",
      "execution_count": null,
      "metadata": {
        "collapsed": false
      },
      "outputs": [],
      "source": [
        "cm = chaboche_model.ChabocheModel()\nprint(cm.data)\nobservedParameters = cm.data[:, 0]  # Strain\nobservedVariables = cm.data[:, 1]  # Stress\nnumberOfObservations = cm.data.getSize()"
      ]
    },
    {
      "cell_type": "markdown",
      "metadata": {},
      "source": [
        "### Set Calibration prior distribution\nThe prior observed parameters uncertainty distribution parameter is set\nrandom uncertainty will be add to the observed parameters sample while evaluated ABC DOE.\n\n"
      ]
    },
    {
      "cell_type": "code",
      "execution_count": null,
      "metadata": {
        "collapsed": false
      },
      "outputs": [],
      "source": [
        "StrainUdistribution = ot.Normal(0, 0.001)\ndistributionUObsParameters = ot.ComposedDistribution([StrainUdistribution])\ndistributionUObsParameters.setDescription([r\"$U_{\\varepsilon}$\"])"
      ]
    },
    {
      "cell_type": "markdown",
      "metadata": {},
      "source": [
        "Define the prior joint distribution of the parameter to calibrate $\\pi(\\theta)$\n\n"
      ]
    },
    {
      "cell_type": "code",
      "execution_count": null,
      "metadata": {
        "collapsed": false
      },
      "outputs": [],
      "source": [
        "Rdistribution = ot.Uniform(700.0e6, 800.0e6)\nCdistribution = ot.Uniform(1000.0e6, 4000.0e6)\ngammaDistribution = ot.Uniform(1.0, 10.0)\ndistributionParameters = ot.ComposedDistribution(\n    [Rdistribution, Cdistribution, gammaDistribution]\n)\ndistributionParameters.setDescription([\"R\", \"C\", r\"$\\gamma$\"])\n\nthetaPrior = distributionParameters.getMean()\nprint(thetaPrior)"
      ]
    },
    {
      "cell_type": "markdown",
      "metadata": {},
      "source": [
        "Build a joint distribution between parameters to calibrate prior and observed parameter uncertainty prior\n\n"
      ]
    },
    {
      "cell_type": "code",
      "execution_count": null,
      "metadata": {
        "collapsed": false
      },
      "outputs": [],
      "source": [
        "distributionInputs = ot.ComposedDistribution(\n    [StrainUdistribution, Rdistribution, Cdistribution, gammaDistribution]\n)\ndistributionInputs.setDescription([r\"$U_{\\varepsilon}$\", \"R\", \"C\", r\"$\\gamma$\"])"
      ]
    },
    {
      "cell_type": "markdown",
      "metadata": {},
      "source": [
        "## Set the calibration criteria\nmodeller need to define the computation of the criteria to define a calibrated model based on the returned sample by the evaluation of all the observation point\n\n"
      ]
    },
    {
      "cell_type": "code",
      "execution_count": null,
      "metadata": {
        "collapsed": false
      },
      "outputs": [],
      "source": [
        "def computeABCCriteria(samplePrediction, observedVariableSample):\n    \"\"\"\n    function to compute criteria that will be used for ABC calibration\n    In future ABC class calibration, function to be provided by modeller\n\n    Parameters\n    ---------\n    samplePrediction : :class:`~openturns.Sample`\n        Take as input the return sample from the evaluation of _exec function for all the point in the sample of observed parameters for a given candidate point of ParameterToCalibrate\n\n\n\n    Returns\n    -------\n    pointCriteria : :class:`~openturns.Point`\n\n    for a given ParamterToCalibrate Point, return a point with computed criteria (typically CvRMSE, NMBE)\n    \"\"\"\n\n    residuals = samplePrediction - observedVariableSample\n\n    pointCriteria = ot.Point(4)\n\n    # compute RMSE\n    RMSE_stress = math.sqrt(residuals.computeRawMoment(2)[0])\n    MBE_stress = residuals.computeMean()[0]\n    CvRMSE_stress = RMSE_stress / (observedVariableSample).computeMean()[0]\n    NMBE_stress = MBE_stress / (observedVariableSample).computeMean()[0]\n\n    pointCriteria[0] = RMSE_stress\n    pointCriteria[1] = MBE_stress\n    pointCriteria[2] = CvRMSE_stress\n    pointCriteria[3] = NMBE_stress\n\n    return pointCriteria"
      ]
    },
    {
      "cell_type": "markdown",
      "metadata": {},
      "source": [
        "test the function with the $\\theta_{prior}$ computed above\n\n"
      ]
    },
    {
      "cell_type": "code",
      "execution_count": null,
      "metadata": {
        "collapsed": false
      },
      "outputs": [],
      "source": [
        "calibratedIndices = [1, 2, 3]\nmycf = ot.ParametricFunction(cm.model, calibratedIndices, thetaPrior)\npriorPrediction = mycf(observedParameters)\npriorCriteria = computeABCCriteria(priorPrediction, observedVariables)\nprint(priorCriteria)"
      ]
    },
    {
      "cell_type": "markdown",
      "metadata": {},
      "source": [
        "### Calibrate the model with ABC\nThe ABC method calibrate the model by sample conditioning\n\n"
      ]
    },
    {
      "cell_type": "code",
      "execution_count": null,
      "metadata": {
        "collapsed": false
      },
      "outputs": [],
      "source": [
        "observedParameterIndices = [0]\ntoCalibrateParameterIndices = [1, 2, 3]\ndoeSize = 15000  # Size of the prior MonteCarlo sample\nposteriorSampleTargetedSize = 100  # Targegeted size of the posterior conditional sample\nminCvRMSE = 0.0\nminNMBE = -0.003\nmaxCvRMSE = 0.015\nmaxNMBE = 0.003\ncriteriaSelection = ot.Interval(\n    [0, 0, minCvRMSE, minNMBE],\n    [0, 0, maxCvRMSE, maxNMBE],\n    [False, False, True, True],\n    [False, False, True, True],\n)\nalgo = otABCC.ABCCalibration(\n    cm.model,\n    computeABCCriteria,\n    observedParameterIndices,\n    toCalibrateParameterIndices,\n    observedParameters,\n    observedVariables,\n    distributionUObsParameters,\n    distributionParameters,\n    distributionInputs,\n    doeSize,\n    posteriorSampleTargetedSize,\n    criteriaSelection,\n)\nalgo.setABCCriteriaDescription(\n    [r\"$RMSE_{\\sigma}$\", r\"$MBE_{\\sigma}$\", r\"$CvRMSE_{\\sigma}$\", r\"$NMBE_{\\sigma}$\"]\n)\nalgo.run()"
      ]
    },
    {
      "cell_type": "markdown",
      "metadata": {},
      "source": [
        "Investigate the results\n\n"
      ]
    },
    {
      "cell_type": "code",
      "execution_count": null,
      "metadata": {
        "collapsed": false
      },
      "outputs": [],
      "source": [
        "print(algo.getPriorDOE())"
      ]
    },
    {
      "cell_type": "markdown",
      "metadata": {},
      "source": [
        "draw posterior input distribution to analyse calibration\n\n"
      ]
    },
    {
      "cell_type": "code",
      "execution_count": null,
      "metadata": {
        "collapsed": false
      },
      "outputs": [],
      "source": [
        "grid = algo.result.conditionalSample.drawPosteriorInputDistribution()\nfig = otv.View(grid)\nfig.show()"
      ]
    }
  ],
  "metadata": {
    "kernelspec": {
      "display_name": "Python 3",
      "language": "python",
      "name": "python3"
    },
    "language_info": {
      "codemirror_mode": {
        "name": "ipython",
        "version": 3
      },
      "file_extension": ".py",
      "mimetype": "text/x-python",
      "name": "python",
      "nbconvert_exporter": "python",
      "pygments_lexer": "ipython3",
      "version": "3.9.18"
    }
  },
  "nbformat": 4,
  "nbformat_minor": 0
}